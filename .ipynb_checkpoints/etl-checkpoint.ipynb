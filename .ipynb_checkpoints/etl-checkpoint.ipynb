{
 "cells": [
  {
   "cell_type": "markdown",
   "metadata": {},
   "source": [
    "# Part I. ETL Pipeline for Pre-Processing the Files"
   ]
  },
  {
   "cell_type": "code",
   "execution_count": null,
   "metadata": {},
   "outputs": [],
   "source": [
    "! pip install cassandra-driver"
   ]
  },
  {
   "cell_type": "markdown",
   "metadata": {},
   "source": [
    "#### Import Python packages "
   ]
  },
  {
   "cell_type": "code",
   "execution_count": null,
   "metadata": {},
   "outputs": [],
   "source": [
    "import os \n",
    "import cassandra \n",
    "import glob\n",
    "import pandas as pd \n",
    "import numpy as np\n",
    "import json\n",
    "import csv\n",
    "import re"
   ]
  },
  {
   "cell_type": "markdown",
   "metadata": {},
   "source": [
    "#### Creating list of filepaths to process original event csv data files\n"
   ]
  },
  {
   "cell_type": "code",
   "execution_count": null,
   "metadata": {},
   "outputs": [],
   "source": [
    "# checking your current working directory\n",
    "print(os.getcwd())\n",
    "\n",
    "# Get your current folder and subfolder event data\n",
    "filepath = os.getcwd() + '/event_data'\n",
    "\n",
    "# Create a for loop to create a list of files and collect each filepath\n",
    "for root, dirs ,files in os.walk(filepath):\n",
    "    # join the file path and roots with the subdirectories using glob\n",
    "    file_path_list = glob.glob(os.path.join(root,'*'))\n",
    "    #print(file_path_list)\n",
    "       "
   ]
  },
  {
   "cell_type": "markdown",
   "metadata": {},
   "source": [
    "### Processing the files to create the data file csv that will be used for Apache Casssandra tables\n"
   ]
  },
  {
   "cell_type": "code",
   "execution_count": null,
   "metadata": {},
   "outputs": [],
   "source": [
    "# initiating an empty list of rows that will be generated from each file\n",
    "full_data_row_list = []\n",
    "\n",
    "# for every filepath in the file path list\n",
    "for f in file_path_list:\n",
    "    # reading csv file\n",
    "    with open(f, 'r' ,encoding = 'utf8', newline ='') as csvfile:\n",
    "         # creating a csv reader object\n",
    "            csvreader = csv.reader(csvfile)\n",
    "            next (csvreader)\n",
    "            \n",
    "# extracting each data row one by one and append it\n",
    "            for line in csvreader:\n",
    "                #print(line)\n",
    "                full_data_row_list.append(line)\n",
    "\n",
    "# uncomment the code below if you would like to get total number of rows \n",
    "#print(len(full_data_row_list))\n",
    "\n",
    "# uncomment the code below if you would like to check to see what the list of event data rows will look like\n",
    "#print (full_data_row_list)\n",
    "\n",
    "\n",
    "#creating a smaller event data csv file called event_datafile_full csv that will be used to insert data into the \\\n",
    "# Apache Cassandra tables\n",
    "csv.register_dialect('myDialect', quoting=csv.QUOTE_ALL, skipinitialspace= True)\n",
    "\n",
    "with open('event_datafile_new.csv','w', encoding = 'utf8', newline= '') as f :\n",
    "    writer= csv.writer(f, dialect = 'myDialect')\n",
    "    writer.writerow(['artist','firstName','gender','itemInSession','lastName','length',\\\n",
    "                     'level','location','sessionId','song','userId'])\n",
    "    for row in full_data_row_list:\n",
    "        if (row[0] == ''):\n",
    "            continue\n",
    "        writer.writerow((row[0], row[2], row[3], row[4], row[5], row[6], row[7], row[8], row[12], row[13], row[16]))  \n",
    "\n",
    "# check the number of rows in your csv file\n",
    "with open('event_datafile_new.csv','r', encoding = 'utf8') as f :\n",
    "    print(sum(1 for line in f))\n",
    "            \n"
   ]
  },
  {
   "cell_type": "markdown",
   "metadata": {},
   "source": [
    "# Part II. Complete the Apache Cassandra coding portion of your project. "
   ]
  },
  {
   "cell_type": "markdown",
   "metadata": {},
   "source": [
    "## Now you are ready to work with the CSV file titled <font color=red>event_datafile_new.csv</font>, located within the Workspace directory.  The event_datafile_new.csv contains the following columns: \n",
    "- artist \n",
    "- firstName of user\n",
    "- gender of user\n",
    "- item number in session\n",
    "- last name of user\n",
    "- length of the song\n",
    "- level (paid or free song)\n",
    "- location of the user\n",
    "- sessionId\n",
    "- song title\n",
    "- userId"
   ]
  },
  {
   "cell_type": "markdown",
   "metadata": {},
   "source": [
    "### Creating a Cluster"
   ]
  },
  {
   "cell_type": "markdown",
   "metadata": {},
   "source": [
    "#### This should make a connection to a Cassandra instance your local machine (127.0.0.1)\n"
   ]
  },
  {
   "cell_type": "code",
   "execution_count": null,
   "metadata": {},
   "outputs": [],
   "source": [
    "from cassandra.cluster import Cluster\n",
    "try :\n",
    "    cluster = Cluster(['127.0.0.1'])\n",
    "    session = cluster.connect()\n",
    "except Exception as e :\n",
    "    print(e)"
   ]
  },
  {
   "cell_type": "markdown",
   "metadata": {},
   "source": [
    "### Create Keyspace\n"
   ]
  },
  {
   "cell_type": "code",
   "execution_count": null,
   "metadata": {},
   "outputs": [],
   "source": [
    "#Creation of a Keyspace\n",
    "session.execute (\"\"\"\n",
    "create keyspace if not exists project\n",
    "with replication={'class' : 'SimpleStrategy', 'replication_factor': 1}\n",
    "\"\"\")\n"
   ]
  },
  {
   "cell_type": "markdown",
   "metadata": {},
   "source": [
    "#### Set Keyspace"
   ]
  },
  {
   "cell_type": "code",
   "execution_count": null,
   "metadata": {},
   "outputs": [],
   "source": [
    "#Setting KEYSPACE to the keyspace specified above\n",
    "session.set_keyspace('project')"
   ]
  },
  {
   "cell_type": "markdown",
   "metadata": {},
   "source": [
    "### Create queries to ask the following three questions of the data\n",
    "#### 1. Give me the artist, song title and song's length in the music app history that was heard during sessionId = 338, and itemInSession = 4\n",
    "#### 2. Give me only the following: name of artist, song (sorted by itemInSession) and user (first and last name) for userid = 10, sessionid = 182\n",
    "#### 3. Give me every user name (first and last) in my music app history who listened to the song 'All Hands Against His Own'\n"
   ]
  },
  {
   "cell_type": "markdown",
   "metadata": {},
   "source": [
    "### Query #1\n",
    "\n",
    "### Give me the artist, song title and song's length in the music app history that was heard during sessionId = 338, and itemInSession = 4\n",
    "\n",
    "#### To answer this question we will need to get (select) the artist name, song name, and the song length from our table, and also we will need to filter the results by sessionId and itemInSession.\n"
   ]
  },
  {
   "cell_type": "markdown",
   "metadata": {},
   "source": [
    "#### Steps to be followed are:\n",
    "##### 1. Create a table by the name artist_session if it doesn't exist by using If exists clause.\n",
    "##### 2. Insert values into the created table by reading the event datafile.\n",
    "##### 3. Writing the select query in CQL to fetch the required results. The select query is mentioned just below this statment.\n",
    "##### select artist, song, length from artist_session where sessionId= 338 and itemInSession= 4\n",
    "\n",
    "#### As mentioned in our point 1, We will name our table artist_session\n",
    "#### Our primary key will consist of partition key sessionId, and clustering key itemInSession so as to filter by this later on as mentioned in the select statement\n",
    "#### The columns of our table are: sessionId, itemInSession, artist, length (song) and song (name).\n"
   ]
  },
  {
   "cell_type": "code",
   "execution_count": null,
   "metadata": {
    "scrolled": true
   },
   "outputs": [],
   "source": [
    "session.execute (\"\"\"\n",
    "create table if not exists artist_session (sessionId int,itemInSession int, artist text,\\\n",
    "length float, song text, primary key(sessionId, itemInSession)) \n",
    "\"\"\")"
   ]
  },
  {
   "cell_type": "code",
   "execution_count": null,
   "metadata": {},
   "outputs": [],
   "source": [
    "# Loading the table with the necessary parameter mentioned in the above step from event_datafile_new.csv \n",
    "file = 'event_datafile_new.csv'\n",
    "\n",
    "with open(file, encoding = 'utf8') as f:\n",
    "    csvreader = csv.reader(f)\n",
    "    next(csvreader)\n",
    "    \n",
    "    for line in csvreader:\n",
    "        #print (line[0])\n",
    "        query = \"insert into artist_session (sessionId, itemInSession, artist, length, song)\"\n",
    "        query = query + \"values(%s, %s, %s, %s, %s)\"\n",
    "        session.execute(query,(int(line[8]), int(line[3]), line[0], float(line[5]), line[9]))"
   ]
  },
  {
   "cell_type": "markdown",
   "metadata": {},
   "source": [
    "#### Selecting to verify that the data have been inserted into artist_session table"
   ]
  },
  {
   "cell_type": "code",
   "execution_count": null,
   "metadata": {},
   "outputs": [],
   "source": [
    "rows = session.execute (\"\"\"\n",
    "select artist,song,length from artist_session \n",
    "where sessionId = 338 AND itemInSession = 4\"\"\")\n",
    "\n",
    "for row in rows:\n",
    "    print(row.artist, row.song, row.length)\n",
    "    "
   ]
  },
  {
   "cell_type": "markdown",
   "metadata": {},
   "source": [
    "## Query #2\n",
    "\n",
    "### Give me only the following: name of artist, song (sorted by itemInSession) and user (first and last name)\\\n",
    "### for userid = 10, sessionid = 182\n",
    "\n",
    "#### To answer this question we will need to get (select) the itemInSession, artist name, song name, User name (First and last) from our table, and also we will need to filter the results by Userid, and sessionId.\n",
    "\n",
    "#### Steps to be followed are:\n",
    "##### 1. Create a table by the name user_session if it doesn't exist by using If exists clause\n",
    "##### 2. Insert values into the created table by reading the event datafile.\n",
    "##### 3. Writing the select query in CQL to fetch the required results. The select query is mentioned just below this statment.\n",
    "##### select itemInSession, artist, song, firstName, lastName from user_session where userId= 10 and sessionId= 182\n",
    "\n",
    "#### As mentioned in our point 1, We will name our table user_session\n",
    "#### Our primary key contains userId, sessionId as partition keys and itemInSession as the clustering key so as to filter by this later on as mentioned in the select statement\n",
    "#### The columns of our table are: itemInSession, artist, song, firstName, lastName."
   ]
  },
  {
   "cell_type": "code",
   "execution_count": null,
   "metadata": {},
   "outputs": [],
   "source": [
    "session.execute (\"\"\"\n",
    "create table if not exists user_session (userId int, sessionId int, itemInSession int, artist text, song text, firstName text,\\\n",
    "lastName text, primary key ((userId,sessionId), itemInSession ))\"\"\")"
   ]
  },
  {
   "cell_type": "code",
   "execution_count": null,
   "metadata": {},
   "outputs": [],
   "source": [
    "# Loading the table with the necessary parameter mentioned in the above step from event_datafile_new.csv\n",
    "file = 'event_datafile_new.csv'\n",
    "\n",
    "with open (file , encoding = 'utf8') as f:\n",
    "    csvreader = csv.reader(f)\n",
    "    next(csvreader)\n",
    "    \n",
    "    for line in csvreader :\n",
    "        query = \"insert into user_session(userId, sessionId, itemInSession, artist, song, firstName, lastName)\"\n",
    "        query = query + \"VALUES (%s, %s, %s, %s, %s, %s, %s)\"\n",
    "        session.execute (query,(int(line[10]), int(line[8]), int(line[3]), line[0], line[9], line[1], line[4]))\n",
    "    \n",
    "    "
   ]
  },
  {
   "cell_type": "code",
   "execution_count": null,
   "metadata": {},
   "outputs": [],
   "source": [
    "#### Selecting to verify that the data have been inserted into user_session table\n",
    "rows= session.execute(\"\"\"\n",
    "select itemInSession, artist, song, firstName, lastName from user_session\n",
    "where userId= 10 and sessionId= 182\n",
    "\"\"\")\n",
    "#print(rows)\n",
    "for row in rows:\n",
    "    #print(row)\n",
    "    print(row.iteminsession, row.artist, row.song, row.firstname, row.lastname)\n"
   ]
  },
  {
   "cell_type": "markdown",
   "metadata": {},
   "source": [
    "## Query #3\n",
    "\n",
    "### Give me every user name (first and last) in my music app history who listened to the song 'All Hands Against His Own'\n",
    "\n",
    "#### To answer this question we will need to get (select) the User name (First and last) from our table, and also we will need to filter the results by Song Name.\n",
    "\n",
    "#### Steps to be followed are:\n",
    "##### 1. Create a table by the name music_session if it doesn't exist by using If exists clause\n",
    "##### 2. Insert values into the created table by reading the event datafile.\n",
    "##### 3. Writing the select query in CQL to fetch the required results. The select query is mentioned just below this statment.\n",
    "##### select firstName, lastName from music_session where song= 'All Hands Against His Own'\n",
    "\n",
    "#### As mentioned in our point 1, We will name our table music_session\n",
    "#### Our primary key contains song as partition keys and userID as the clustering key so as to filter by this later on as mentioned in the select statement\n",
    "#### The columns of our table are: firstName, lastName."
   ]
  },
  {
   "cell_type": "code",
   "execution_count": null,
   "metadata": {},
   "outputs": [],
   "source": [
    "session.execute(\"\"\"\n",
    "create table if not exists music_session(userId int, firstName text, lastName text, song text, primary key(song, userId))\n",
    "\"\"\") "
   ]
  },
  {
   "cell_type": "code",
   "execution_count": null,
   "metadata": {},
   "outputs": [],
   "source": [
    "# Loading the table with the necessary parameter mentioned in the above step from event_datafile_new.csv\n",
    "file = 'event_datafile_new.csv'\n",
    "\n",
    "with open(file, encoding = 'utf8') as f:\n",
    "    csvreader = csv.reader(f)\n",
    "    next(csvreader) # skip header\n",
    "    for line in csvreader:\n",
    "        query = \"insert into music_session(userId, firstName, lastName, song)\"\n",
    "        query = query + \"VALUES (%s, %s, %s, %s)\"\n",
    "        session.execute(query, (int(line[10]), line[1], line[4], line[9]))"
   ]
  },
  {
   "cell_type": "markdown",
   "metadata": {},
   "source": [
    "#### Selecting to verify that the data have been inserted into music_session table"
   ]
  },
  {
   "cell_type": "code",
   "execution_count": null,
   "metadata": {},
   "outputs": [],
   "source": [
    "rows= session.execute(\"\"\"\n",
    "select firstName, lastName from music_session\n",
    "where song= 'All Hands Against His Own'\n",
    "\"\"\")\n",
    "print(rows)\n",
    "for row in rows:\n",
    "    #print(row)\n",
    "    print(row.firstname, row.lastname)"
   ]
  },
  {
   "cell_type": "code",
   "execution_count": null,
   "metadata": {},
   "outputs": [],
   "source": [
    "### Dropping the tables before closing out the sessions\n",
    "\n",
    "session.execute(\"drop table if exists artist_session\")\n",
    "session.execute(\"drop table if exists user_session\")\n",
    "session.execute(\"drop table if exists music_session\")"
   ]
  },
  {
   "cell_type": "code",
   "execution_count": null,
   "metadata": {},
   "outputs": [],
   "source": [
    "### Close the session and cluster connection¶\n",
    "\n",
    "session.shutdown()\n",
    "cluster.shutdown()\n"
   ]
  }
 ],
 "metadata": {
  "kernelspec": {
   "display_name": "Python 3",
   "language": "python",
   "name": "python3"
  },
  "language_info": {
   "codemirror_mode": {
    "name": "ipython",
    "version": 3
   },
   "file_extension": ".py",
   "mimetype": "text/x-python",
   "name": "python",
   "nbconvert_exporter": "python",
   "pygments_lexer": "ipython3",
   "version": "3.8.8"
  }
 },
 "nbformat": 4,
 "nbformat_minor": 4
}
